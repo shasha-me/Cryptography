{
  "nbformat": 4,
  "nbformat_minor": 0,
  "metadata": {
    "colab": {
      "name": "Cryptography.ipynb",
      "provenance": [],
      "collapsed_sections": []
    },
    "kernelspec": {
      "name": "python3",
      "display_name": "Python 3"
    },
    "language_info": {
      "name": "python"
    }
  },
  "cells": [
    {
      "cell_type": "markdown",
      "metadata": {
        "id": "_uUMpKJDeHrk"
      },
      "source": [
        "---\n",
        "\n",
        "# ***Presentation of PPT***   \n",
        "\n",
        "\n"
      ]
    },
    {
      "cell_type": "markdown",
      "metadata": {
        "id": "hOwvn2DAeyk3"
      },
      "source": [
        "[Click here to view the editable presentation](https://www.canva.com/design/DAEg5F_dcu0/w7HkZpW2LPFC_NqejQBt8A/watch?utm_content=DAEg5F_dcu0&utm_campaign=designshare&utm_medium=link&utm_source=publishsharelink)\n",
        "\n",
        "\n",
        "\n",
        "[Click here to view the only presentation](https://www.canva.com/design/DAEg5F_dcu0/w7HkZpW2LPFC_NqejQBt8A/view?utm_content=DAEg5F_dcu0&utm_campaign=designshare&utm_medium=link&utm_source=publishsharelink)\n",
        "\n",
        "\n",
        "---\n",
        "\n"
      ]
    },
    {
      "cell_type": "markdown",
      "metadata": {
        "id": "Xh-5_uWKZ5An"
      },
      "source": [
        "## **`Encryption Code`**\n",
        "\n",
        "---\n",
        "\n",
        "\n",
        "---\n",
        "\n",
        "\n",
        "\n",
        "---\n",
        "\n",
        "\n",
        "\n",
        "\n",
        "---\n",
        "\n"
      ]
    },
    {
      "cell_type": "markdown",
      "metadata": {
        "id": "blGfUTIiSRdk"
      },
      "source": [
        "Just to convert list into array importing library :"
      ]
    },
    {
      "cell_type": "code",
      "metadata": {
        "id": "tvI3d1b8SJDx"
      },
      "source": [
        "import numpy "
      ],
      "execution_count": null,
      "outputs": []
    },
    {
      "cell_type": "markdown",
      "metadata": {
        "id": "mzPP_m79SWnC"
      },
      "source": [
        "To enter the Message from user :"
      ]
    },
    {
      "cell_type": "code",
      "metadata": {
        "colab": {
          "base_uri": "https://localhost:8080/"
        },
        "id": "3bO7K9WcSheg",
        "outputId": "7580a158-dd8d-4a2e-868d-c32d6e275761"
      },
      "source": [
        "Message_want_to_be_coded = input(\"Enter a message to convey (count that the characters including space to be even : )\")\n",
        "\n",
        "print(Message_want_to_be_coded)"
      ],
      "execution_count": null,
      "outputs": [
        {
          "output_type": "stream",
          "text": [
            "Enter a message to convey (count that the characters including space to be even : )Meri maa jammu mein rehti h\n",
            "Meri maa jammu mein rehti h\n"
          ],
          "name": "stdout"
        }
      ]
    },
    {
      "cell_type": "markdown",
      "metadata": {
        "id": "L8naynWaSr4R"
      },
      "source": [
        "# `STEP 1`\n",
        "\n",
        "---\n",
        "\n",
        "\n",
        "\n",
        "\n"
      ]
    },
    {
      "cell_type": "markdown",
      "metadata": {
        "id": "NIcUY1NMS9db"
      },
      "source": [
        "### *Reversing the message*"
      ]
    },
    {
      "cell_type": "code",
      "metadata": {
        "id": "zVoItrOlTFJh",
        "colab": {
          "base_uri": "https://localhost:8080/"
        },
        "outputId": "ea343b64-68ff-498c-acc0-90f46facb11a"
      },
      "source": [
        "reversed_string = Message_want_to_be_coded[::-1]\t\t#code to reverse the string\n",
        "\n",
        "print(reversed_string)  #This will print the reversed string STEP 1 (not to be shown in code)\n"
      ],
      "execution_count": null,
      "outputs": [
        {
          "output_type": "stream",
          "text": [
            "h ither niem ummaj aam ireM\n"
          ],
          "name": "stdout"
        }
      ]
    },
    {
      "cell_type": "markdown",
      "metadata": {
        "id": "SgaQ4PM2TNiY"
      },
      "source": [
        "# `STEP 2`\n",
        "\n",
        "---\n",
        "\n",
        "\n",
        "\n",
        "\n"
      ]
    },
    {
      "cell_type": "markdown",
      "metadata": {
        "id": "2WDPWvD7TT5h"
      },
      "source": [
        "*Converting the reversed message into ASCII values*"
      ]
    },
    {
      "cell_type": "code",
      "metadata": {
        "id": "D2hUp0w9UISn"
      },
      "source": [
        "#initializing a new list which will store \n",
        "ASCII_values = []\t\t\t\t                                    \n",
        "\n",
        "#using for loop to iterate all the values of the reversed string\n",
        "for character in reversed_string:\t\t\t                     \n",
        "   ASCII_values.append(ord(character))\t\t                              #this will append values in the empty list ASCII_values\n",
        "\n",
        "\n",
        "\n",
        "#just copying the ASCII_values list in a new list\n",
        "test_list = ASCII_values\n"
      ],
      "execution_count": null,
      "outputs": []
    },
    {
      "cell_type": "markdown",
      "metadata": {
        "id": "zGFxrozLUvwK"
      },
      "source": [
        "Some extra code for Better understanding\n",
        "\n",
        "---\n",
        "\n"
      ]
    },
    {
      "cell_type": "code",
      "metadata": {
        "id": "w81qob_vU8kP",
        "colab": {
          "base_uri": "https://localhost:8080/"
        },
        "outputId": "8526e546-ae6a-4ea6-e7cd-1c94b54804de"
      },
      "source": [
        "# printing original list having the ASCII values\n",
        "print(\"The original list is : \" + str(test_list))\t\t\t#This wont be reflected in the code\n",
        "\n",
        "#for higher level code this is just a demo to remove the limitation of even number\n",
        "if (len(test_list) % 2) == 0:\n",
        "  es=len(test_list)//2\n",
        "else:\n",
        "  es=(len(test_list)//2) + 1"
      ],
      "execution_count": null,
      "outputs": [
        {
          "output_type": "stream",
          "text": [
            "The original list is : [104, 32, 105, 116, 104, 101, 114, 32, 110, 105, 101, 109, 32, 117, 109, 109, 97, 106, 32, 97, 97, 109, 32, 105, 114, 101, 77]\n"
          ],
          "name": "stdout"
        }
      ]
    },
    {
      "cell_type": "markdown",
      "metadata": {
        "id": "HZc34I0_VA6X"
      },
      "source": [
        "# `STEP 3`\n",
        "\n",
        "---\n",
        "\n",
        "\n",
        "\n",
        "\n"
      ]
    },
    {
      "cell_type": "markdown",
      "metadata": {
        "id": "NFiZw2WwVV_y"
      },
      "source": [
        "Making matrix (1x2) with the obtained list above"
      ]
    },
    {
      "cell_type": "code",
      "metadata": {
        "id": "XLe3Akc8Vd50",
        "colab": {
          "base_uri": "https://localhost:8080/"
        },
        "outputId": "7cd672fd-05e4-4d23-f908-88bcbd3cb418"
      },
      "source": [
        "#now we will group two-two elements and covert into 1x2 matrix and get a list of all those matrix\n",
        "grouped_matrix = []\n",
        "\n",
        "for idx in range(0, es):\n",
        "\t# getting incremented chunks\n",
        "\tgrouped_matrix.append(test_list[2*idx : 2*idx + 2 ])\n",
        "\n",
        "# printing grouped_matrix\n",
        "print(\"Constructed Chunk Matrix list : \" + str(grouped_matrix))       #     This cannot be shown in the user end"
      ],
      "execution_count": null,
      "outputs": [
        {
          "output_type": "stream",
          "text": [
            "Constructed Chunk Matrix list : [[104, 32], [105, 116], [104, 101], [114, 32], [110, 105], [101, 109], [32, 117], [109, 109], [97, 106], [32, 97], [97, 109], [32, 105], [114, 101], [77]]\n"
          ],
          "name": "stdout"
        }
      ]
    },
    {
      "cell_type": "markdown",
      "metadata": {
        "id": "yHh8OFIkYxTQ"
      },
      "source": [
        "# `STEP 4`\n",
        "\n",
        "---\n",
        "\n",
        "\n",
        "\n",
        "\n"
      ]
    },
    {
      "cell_type": "markdown",
      "metadata": {
        "id": "z8Qd2KYtY1ve"
      },
      "source": [
        "Defining a key matrix (May be fixed by the authority)  2x2 square matrix which is invertible and determinant quals zero"
      ]
    },
    {
      "cell_type": "markdown",
      "metadata": {
        "id": "rN4i4VBRZJc8"
      },
      "source": [
        "\n",
        "\n",
        "```\n",
        "# This code can also contains checking of invertibility and if deteminant equals zero or not but for time being we are not using it\n",
        "```\n",
        "\n"
      ]
    },
    {
      "cell_type": "code",
      "metadata": {
        "id": "pVap9A9tZbKV"
      },
      "source": [
        "key_matrix=[[1,2],[0,-1]]\t\t\t#assigning a key_matrix which is to be multiplied"
      ],
      "execution_count": null,
      "outputs": []
    },
    {
      "cell_type": "markdown",
      "metadata": {
        "id": "aRtxDA3DZoZS"
      },
      "source": [
        "# `STEP 5`\n",
        "\n",
        "---\n",
        "\n",
        "\n",
        "\n",
        "\n"
      ]
    },
    {
      "cell_type": "markdown",
      "metadata": {
        "id": "vVEy3XocZpjB"
      },
      "source": [
        "Multiplying ASCII value matrix with Key matrix"
      ]
    },
    {
      "cell_type": "code",
      "metadata": {
        "id": "SaOrNYEKZ0xo"
      },
      "source": [
        "result_matrix_multi=[]\t\t\t\t                  \t#this will store the matrices after multiplication with key_matrix\n",
        "p=0\n",
        "while p< (len(test_list)//2):\n",
        "    single_matrix_multi = [[0,0]]\n",
        "    store_single_matrix=[grouped_matrix[p]]\n",
        "    for i in range(len(store_single_matrix)):\n",
        "        for j in range(len(key_matrix[0])):\n",
        "            for k in range(len(key_matrix)):\n",
        "                single_matrix_multi[i][j] += store_single_matrix[i][k] * key_matrix[k][j]\n",
        "    result_matrix_multi.append(single_matrix_multi)  \n",
        "    p=p+1            \n",
        "\n",
        "\n",
        "#print(str(result_matrix_multi))\n",
        "#the above code will print the rsult matrix after multiplication\n"
      ],
      "execution_count": null,
      "outputs": []
    },
    {
      "cell_type": "markdown",
      "metadata": {
        "id": "ghOeBcb0Z7Xo"
      },
      "source": [
        "# `STEP 6`\n",
        "\n",
        "---\n",
        "\n",
        "\n",
        "\n",
        "\n"
      ]
    },
    {
      "cell_type": "markdown",
      "metadata": {
        "id": "UzYV01IUZ-Qo"
      },
      "source": [
        "Converting Matrix of encrypted code to list"
      ]
    },
    {
      "cell_type": "code",
      "metadata": {
        "id": "LlrUWYt9aJQf"
      },
      "source": [
        "#this will convert the matrix into normal list\n",
        "output = []\n",
        "def reemovNestings(l):\n",
        "    for i in l:\n",
        "        if type(i) == list:\n",
        "            reemovNestings(i)\n",
        "        else:\n",
        "            output.append(i)\n",
        "  \n",
        "\n",
        "reemovNestings(result_matrix_multi)\n",
        "\n",
        "#print ('The list after removing nesting or removing matrices: ', output)\n",
        "#the above code will print the resulted list which contains the encrypted code\n"
      ],
      "execution_count": null,
      "outputs": []
    },
    {
      "cell_type": "markdown",
      "metadata": {
        "id": "u1yrRP3AaQCE"
      },
      "source": [
        "# `STEP 7`\n",
        "\n",
        "---\n",
        "\n",
        "\n",
        "\n",
        "\n"
      ]
    },
    {
      "cell_type": "markdown",
      "metadata": {
        "id": "TL1r8IKNacCX"
      },
      "source": [
        "Converting list to array for better reading by the user of the encrypted code (eliminating commas)"
      ]
    },
    {
      "cell_type": "code",
      "metadata": {
        "colab": {
          "base_uri": "https://localhost:8080/"
        },
        "id": "MzaM88OrNLbU",
        "outputId": "e8eafa54-079f-4589-e965-c29642bc5374"
      },
      "source": [
        "# converting list to array for getting a smooth encrypted code\n",
        "arr = numpy.array(output)\n",
        "# displaying array\n",
        "print (\"Here is the main encryted code which you can use of your given message: \", arr)"
      ],
      "execution_count": null,
      "outputs": [
        {
          "output_type": "stream",
          "text": [
            "Here is the main encryted code which you can use of your given message:  [104 176 105  94 104  94  32 -46 105 109 109 186 117 125 109 121 106 180\n",
            "  97  97 109 186 105  96 101 125]\n"
          ],
          "name": "stdout"
        }
      ]
    },
    {
      "cell_type": "markdown",
      "metadata": {
        "id": "v6F90fK5V2sc"
      },
      "source": [
        "# **`Decryption Code`**\n",
        "\n",
        "---\n",
        "\n",
        "\n",
        "\n",
        "---\n",
        "\n",
        "\n",
        "\n",
        "---\n",
        "\n"
      ]
    },
    {
      "cell_type": "markdown",
      "metadata": {
        "id": "yEH5WhW2uhwF"
      },
      "source": [
        "# `STEP 1`\n",
        "\n",
        "---\n",
        "\n",
        "\n",
        "\n",
        "\n"
      ]
    },
    {
      "cell_type": "markdown",
      "metadata": {
        "id": "O29MrWpPvDb2"
      },
      "source": [
        "Reading the code from user"
      ]
    },
    {
      "cell_type": "markdown",
      "metadata": {
        "id": "6vOTwyWevVHo"
      },
      "source": [
        "# `STEP 2`\n",
        "\n",
        "---\n",
        "\n",
        "\n",
        "\n",
        "\n"
      ]
    },
    {
      "cell_type": "markdown",
      "metadata": {
        "id": "wxk52_JsvXHT"
      },
      "source": [
        "Making matrix (1x2) with the obtained list above"
      ]
    },
    {
      "cell_type": "code",
      "metadata": {
        "id": "vscIIzX1vfUW"
      },
      "source": [
        "#creating a list which stores grouped matrices \n",
        "group_divider = []\n",
        "for id in range(0, es):\n",
        "\t# getting incremented chunks\n",
        "\tgroup_divider.append(code_want_to_be_message[2*id : 2*id + 2 ])\n",
        "\n",
        "\n",
        "# printing result\n",
        "#print(\"matrix after decoding, then grouping : \" + str(group_divider))\tTHIS WILL not be printed\n"
      ],
      "execution_count": null,
      "outputs": []
    },
    {
      "cell_type": "markdown",
      "metadata": {
        "id": "KYkO3jb2vj3X"
      },
      "source": [
        "# `STEP 3`\n",
        "\n",
        "---\n",
        "\n",
        "\n",
        "\n",
        "\n"
      ]
    },
    {
      "cell_type": "markdown",
      "metadata": {
        "id": "aZJSnhfpvoAT"
      },
      "source": [
        "Finding the inverse matrix and checking ih inverse is possible or not"
      ]
    },
    {
      "cell_type": "code",
      "metadata": {
        "id": "NPrOvPd2vxUn"
      },
      "source": [
        "#to find the inverse of matrix\n",
        "inverse_matrix=numpy.linalg.inv(key_matrix)"
      ],
      "execution_count": null,
      "outputs": []
    },
    {
      "cell_type": "markdown",
      "metadata": {
        "id": "Wh2-cbW2v1U8"
      },
      "source": [
        "# `STEP 4`\n",
        "\n",
        "---\n",
        "\n",
        "\n",
        "\n",
        "\n"
      ]
    },
    {
      "cell_type": "markdown",
      "metadata": {
        "id": "QmFGY-PRv5MT"
      },
      "source": [
        "Proces of multiplication of matrix"
      ]
    },
    {
      "cell_type": "code",
      "metadata": {
        "id": "vEo8YjI9v9zR"
      },
      "source": [
        "#Process to multiply the inverse matrix with obtained matrix\n",
        "store_mulltiply=[]\n",
        "\n",
        "m=0\n",
        "while m< (len(code_want_to_be_message)//2):\n",
        "    store_single_mulltiply = [[0,0]]\n",
        "    single_matrix_of_list=[group_divider[m]]\n",
        "    for i in range(len(single_matrix_of_list)):\n",
        "        for j in range(len(inverse_matrix[0])):\n",
        "            for k in range(len(inverse_matrix)):\n",
        "                store_single_mulltiply[i][j] += single_matrix_of_list[i][k] * inverse_matrix[k][j]\n",
        "    store_mulltiply.append(store_single_mulltiply)  \n",
        "    m=m+1            \n",
        "\n",
        "#this will print the list of result of matrix multiplication\n",
        "#print(str(store_mulltiply))\t\t\tTHIS WILL not be printed"
      ],
      "execution_count": null,
      "outputs": []
    },
    {
      "cell_type": "markdown",
      "metadata": {
        "id": "DBh8217iwCye"
      },
      "source": [
        "# `STEP 5`\n",
        "\n",
        "---\n",
        "\n",
        "\n",
        "\n",
        "\n"
      ]
    },
    {
      "cell_type": "markdown",
      "metadata": {
        "id": "V5tp1NSSwH1w"
      },
      "source": [
        "Removing the nesting of list"
      ]
    },
    {
      "cell_type": "code",
      "metadata": {
        "id": "P0PvAL0jwLmh"
      },
      "source": [
        "#this will print the list off all matrix in a removed nesting list\n",
        "store_removed_nesting = []        #this will store floating numbers list\n",
        "def removeNestings(l):\n",
        "    for i in l:\n",
        "        if type(i) == list:\n",
        "            removeNestings(i)\n",
        "        else:\n",
        "            store_removed_nesting.append(i)\n",
        "\n",
        "removeNestings(store_mulltiply)\t\t\t\t\t#calling the function\n",
        "#print ('The list after removing nesting after decoding: ', store_removed_nesting)\t\t\t\t\t#THIS WILL not be printed\n",
        "\n",
        "#the below code will convert the floating list into a integer list\n",
        "store_integer_list=(list(map(int, store_removed_nesting)))\n",
        "#print(store_integer_list)        \t#THIS WILL not be printed"
      ],
      "execution_count": null,
      "outputs": []
    },
    {
      "cell_type": "markdown",
      "metadata": {
        "id": "d5r86_riwPZZ"
      },
      "source": [
        "# `STEP 6`\n",
        "\n",
        "---\n",
        "\n",
        "\n",
        "\n",
        "\n"
      ]
    },
    {
      "cell_type": "markdown",
      "metadata": {
        "id": "LbGYpQ_qwWg1"
      },
      "source": [
        "COnverting the ASCII values into respective characters"
      ]
    },
    {
      "cell_type": "code",
      "metadata": {
        "id": "uYmehD6Mwc9B"
      },
      "source": [
        "#Now the all coded mesaage was converted to characters\n",
        "ASCII_string = \"\".join([chr(value) for value in store_integer_list])\n",
        "\n",
        "#print(ASCII_string)\t\t\t\t\tTHIS WILL not be printed"
      ],
      "execution_count": null,
      "outputs": []
    },
    {
      "cell_type": "markdown",
      "metadata": {
        "id": "XtNL48NFwgAM"
      },
      "source": [
        "# `STEP 7`\n",
        "\n",
        "---\n",
        "\n",
        "\n",
        "\n",
        "\n"
      ]
    },
    {
      "cell_type": "markdown",
      "metadata": {
        "id": "i1rd5sN6wpE1"
      },
      "source": [
        "Reverse the previous string and finally the decoded message"
      ]
    },
    {
      "cell_type": "code",
      "metadata": {
        "colab": {
          "base_uri": "https://localhost:8080/"
        },
        "id": "c8QlHEbgYzsW",
        "outputId": "f2a188f4-875d-48b3-cb68-d05d718dec12"
      },
      "source": [
        "Message_want_to_be_coded = input(\"Enter a message to convey (count that the characters including space to be even : )\")\n",
        "\n",
        "print(Message_want_to_be_coded)\n",
        "reversed_string = Message_want_to_be_coded[::-1]\t\t#code to reverse the string\n",
        "\n",
        "#print(reversed_string)  #This will print the reversed string STEP 1 (not to be shown in code)\n",
        "#initializing a new list which will store \n",
        "ASCII_values = []\t\t\t\t                                    \n",
        "\n",
        "#using for loop to iterate all the values of the reversed string\n",
        "for character in reversed_string:\t\t\t                     \n",
        "   ASCII_values.append(ord(character))\t\t                              #this will append values in the empty list ASCII_values\n",
        "\n",
        "\n",
        "\n",
        "#just copying the ASCII_values list in a new list\n",
        "test_list = ASCII_values\n",
        "# printing original list having the ASCII values\n",
        "#print(\"The original list is : \" + str(test_list))\t\t\t#This wont be reflected in the code\n",
        "\n",
        "#for higher level code this is just a demo to remove the limitation of even number\n",
        "if (len(test_list) % 2) == 0:\n",
        "  es=len(test_list)//2\n",
        "else:\n",
        "  es=(len(test_list)//2) + 1\n",
        "  #now we will group two-two elements and covert into 1x2 matrix and get a list of all those matrix\n",
        "grouped_matrix = []\n",
        "\n",
        "for idx in range(0, es):\n",
        "\t# getting incremented chunks\n",
        "\tgrouped_matrix.append(test_list[2*idx : 2*idx + 2 ])\n",
        "\n",
        "# printing grouped_matrix\n",
        "#print(\"Constructed Chunk Matrix list : \" + str(grouped_matrix))       #     This cannot be shown in the user end\n",
        "key_matrix=[[1,2],[0,-1]]\t\t\t#assigning a key_matrix which is to be multiplied\n",
        "\n",
        "result_matrix_multi=[]\t\t\t\t                  \t#this will store the matrices after multiplication with key_matrix\n",
        "p=0\n",
        "while p< (len(test_list)//2):\n",
        "    single_matrix_multi = [[0,0]]\n",
        "    store_single_matrix=[grouped_matrix[p]]\n",
        "    for i in range(len(store_single_matrix)):\n",
        "        for j in range(len(key_matrix[0])):\n",
        "            for k in range(len(key_matrix)):\n",
        "                single_matrix_multi[i][j] += store_single_matrix[i][k] * key_matrix[k][j]\n",
        "    result_matrix_multi.append(single_matrix_multi)  \n",
        "    p=p+1            \n",
        "\n",
        "\n",
        "#print(str(result_matrix_multi))\n",
        "#the above code will print the rsult matrix after multiplication\n",
        "#this will convert the matrix into normal list\n",
        "output = []\n",
        "def reemovNestings(l):\n",
        "    for i in l:\n",
        "        if type(i) == list:\n",
        "            reemovNestings(i)\n",
        "        else:\n",
        "            output.append(i)\n",
        "  \n",
        "\n",
        "reemovNestings(result_matrix_multi)\n",
        "\n",
        "#print ('The list after removing nesting or removing matrices: ', output)\n",
        "#the above code will print the resulted list which contains the encrypted code\n",
        "\n",
        "# converting list to array for getting a smooth encrypted code\n",
        "arr = numpy.array(output)\n",
        "# displaying array\n",
        "print (\"Here is the main encryted code which you can use of your given message: \", arr)"
      ],
      "execution_count": null,
      "outputs": [
        {
          "output_type": "stream",
          "text": [
            "Enter a message to convey (count that the characters including space to be even : )meri maa jammu mein rehti h\n",
            "meri maa jammu mein rehti h\n",
            "Here is the main encryted code which you can use of your given message:  [104 176 105  94 104 107 114 196 110 115 101  93  32 -53 109 109  97  88\n",
            "  32 -33  97  85  32 -41 114 127]\n"
          ],
          "name": "stdout"
        }
      ]
    },
    {
      "cell_type": "code",
      "metadata": {
        "colab": {
          "base_uri": "https://localhost:8080/"
        },
        "id": "UCsxxoNBvJHZ",
        "outputId": "5aad55ed-1cf8-4adb-eded-48ed4dfe4020"
      },
      "source": [
        "#taking input from the user of the code to be decoded into message\n",
        "code_want_to_be_message = []  \n",
        "code_want_to_be_message = [int(item) for item in input(\"Enter the code which is to be converted into message : \").split()]\n"
      ],
      "execution_count": null,
      "outputs": [
        {
          "output_type": "stream",
          "text": [
            "Enter the code which is to be converted into message : 104 176 105  94 104 107 114 196 110 115 101  93  32 -53 109 109  97  88   32 -33  97  85  32 -41 114 127\n"
          ],
          "name": "stdout"
        }
      ]
    },
    {
      "cell_type": "code",
      "metadata": {
        "colab": {
          "base_uri": "https://localhost:8080/"
        },
        "id": "9BFdD5GLwv5T",
        "outputId": "94475bce-fd2f-4ab0-e702-bf70ff38fd59"
      },
      "source": [
        "#The final decoded message is reversed and printed\n",
        "decoded_message=ASCII_string[::-1]\t\t\t\t\t#code to reverse\n",
        "print(\"The final decoded message is: \",decoded_message)"
      ],
      "execution_count": null,
      "outputs": [
        {
          "output_type": "stream",
          "text": [
            "The final decoded message is:  eri maa jammu mein rehti h\n"
          ],
          "name": "stdout"
        }
      ]
    }
  ]
}